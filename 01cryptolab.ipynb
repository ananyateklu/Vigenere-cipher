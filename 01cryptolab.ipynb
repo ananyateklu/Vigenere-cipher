{
  "nbformat": 4,
  "nbformat_minor": 0,
  "metadata": {
    "colab": {
      "name": "01cryptolab.ipynb",
      "provenance": [],
      "collapsed_sections": [],
      "include_colab_link": true
    },
    "kernelspec": {
      "name": "python3",
      "display_name": "Python 3"
    }
  },
  "cells": [
    {
      "cell_type": "markdown",
      "metadata": {
        "id": "view-in-github",
        "colab_type": "text"
      },
      "source": [
        "<a href=\"https://colab.research.google.com/github/ananyateklu/Vigenere-cipher/blob/main/01cryptolab.ipynb\" target=\"_parent\"><img src=\"https://colab.research.google.com/assets/colab-badge.svg\" alt=\"Open In Colab\"/></a>"
      ]
    },
    {
      "cell_type": "code",
      "metadata": {
        "id": "tjbMZSuC3PYr"
      },
      "source": [
        "import string\n",
        "key = \"quasar\"\n",
        "keylen = len(key)"
      ],
      "execution_count": null,
      "outputs": []
    },
    {
      "cell_type": "code",
      "metadata": {
        "id": "bUsSqPAgAoTq"
      },
      "source": [
        "secret_text = \"Cryptography, or cryptology, is the practice and study of techniques for secure communication in the presence of third parties called adversaries. More generally, cryptography is about constructing and analyzing protocols that prevent third \\parties or the public from reading private messages; various aspects in information security such as data confidentiality, data integrity, authentication, and non-repudiation are central to modern cryptography. Modern cryptography exists at the intersection of the disciplines of mathematics, computer science, electrical engineering, communication science, and physics. Applications of cryptography include electronic commerce, chip-based payment cards, digital currencies, computer passwords, and military communications.\"\n",
        "\n",
        "encrypted_text = \"slyhtfwlahhpelcjygjilggpymtzeghuclituunvskkxygfkuwhfihkysxoiiycmrvsimeueywalifdcnlhvflekeesyoxtyyldhaijcekcrbfevaulyrkaiyyseoiuaefeiqflqciojtggiqjhqijqvomttehslrlsnifgrdxafacotifgghitgcfbmtzakfleneejnharufurliviirlhvfobditvloervqxifgghcvstvcyskaxumvsrzeosssguwtkieyhfgrdqnignjuwujikomuuhrixalatehfadvdnislzjsdstryhtwgiynysukxynlitqnignrdxngniujuvirjcofaiuweftiqftgmftyrfciojtggiqjhqmftyrfciojtggiqjhqeoymtkakjbeankulswckyingfkxydastyjlanviifeakxymstzsmcgmgknejstyynuevbyclrzsulwnxyhewrzdacgmdkhiuakyinkczuhcwaetjhqszsmahpcywalifdmoxciojtggiqjhqiesfuvevbyclrfdccuodcyruetxcptajuxpsyduhtuaitmdagzjuluuihynuiviwoepljyrhajiqojdjqhdeicynajytegmmnzsutaoei\""
      ],
      "execution_count": null,
      "outputs": []
    },
    {
      "cell_type": "markdown",
      "metadata": {
        "id": "fn5RiBCxpeUm"
      },
      "source": [
        ""
      ]
    },
    {
      "cell_type": "code",
      "metadata": {
        "id": "knHvZGnZ2iz3"
      },
      "source": [
        "elena = \"QjapkofclpgauficevhvujgebkgtdjhzctdssphzrvgnrbvvoccgueecjvolblkezgljejhmfyftspacmrknxwfhoiasvifbkaskseuiecjfeihgutlrqvhvvafdvbsupvqluowhzgSpglgmjqjapkofclpgauijikgdkctterqzerpdlqgiohjitgweuiwlaSpglgmjoffgrwfcctskutfhzgcfblgnkggheeqjapksvoejgsiejsngnztljetfqrtfujcpywumepwkwnbbgynzbsfdzhaqnkcectysectZqsnaeodaszgghcimhvoxfsrhzqsngffavhdgutyghspacmkkszbunuuskvhvglwdpcxuiusujaebwnakhsekjhzctucfqtkojieKkwckeskuejwfvhvqjapkcytagvaeacugtikveutyseuecjwublhapskssfeoddqiKkwckeskuejwfvhvwjkmgzwoeehsvifb\"\n",
        "joeaaron = \"kkmqqgzyacuataaviefwwsodavessdfjadddhmqxsenfizastpjleeilkoxxfphqhzadewwsaeagkkucygizsgbdgbtsifwzarrxfcedpfzhqglduyqajtttkdabtgbazagjhqgxkrqwwwditdhtttqaadhkpadiukmucywnpizaypdfpsfdhyoyxfcfqslktttjqlqhsjduwaptttynogcvnuzcajgpxvjtypcasqckanailklukwbodumjyajjxrmxfcefhkiaditqtkdmnhqpvcefhvqmnhgiuowlkdahgiuowlksqtkkwtplowddfcwuizpawxfcttttwcwhlneqikuogadjehtjgnalabyajvknfvguogadjehtjohucwefkdmzoziyhoiwwunalqkudtsjaxakpadvwpyajjcaytgjgaedwyttqjoingqrqpjkcwhlwrstlphqhzkwacyatbpazazsshlfwspgxxlpedhaogaavknxnkdoaiajgeisnsngwwkfwwioxsapsmrgklbasyemcvphqnkwyuiyaterghdqgqkudttqnpawzubcgswmxlpixngqgqighdqgtqtfwwieftgnmqctagfdvefrtjfupvajgnnldetddaizizasmiwhluiwlioimnefwwecqlwokmiwesstlpizvhnefiqphucldeiplarevwptucysadbkkyajeegtisowqadowubeuwagdzsacxerqwgsbajluoggkphmikphqlsuixxcaifpfzixafavqgyatndjadttqjoingqrqpfwlxhlwrstluoggywmqdfcobasuhqnfkwkdmnemggykeisngqildeewgsozvwppmxvwlxizwtsaaptqgkessddzozaqohadlenshlwreqjaawizamaavooyttkdkdfyemhcadodmhduhhwrqhgieowsjgqugngmhajeqslkgqieusqaxwwmnxnoyizesbasyeuhsedkthshmisyozrwlturgqlpjkaaxxlplqumalynkalrpfzwqrgqlppdhuetshifidactpfceitdhtttqaadhkpadiukmucywnpizaypdfpsfdhyoyxfcfqslktttjqlqhsjduwaptttynogcvnuzcajgpxvjtypcasqckanailklukwbodumjyajjxrmxfcefhkiaditqtkdmnhqpvcefhvqmnhgiuowlkdahgiuowlksqtkkwtplowddfcwuizpawxfcttttwcwhlneqikuogadjehtjgnalabyajvknfvgcokdmhlztnarewajeuuqkupdfpgxdodekcgsyajjaazpdhsfpjcefngqrspeaozvgllmnzayzdouoggwwrarcotmgyatfwwohalgjgqihwippfzaxaldafvdetftjoievghdacdustdgpizvkpadhtnemzldeyddzhqnfkwttqjoiwwuhqnzayzdodekcgshqnfkwkdmnemcshleisnhqnfkwkdmnemcshleisnhqnfkwkdmnemcshleisnozaqohadlenshlwreqjaawizamaav\"\n",
        "cassiejake = \"nscprrjhclrjvfdesofjpjsxbbzhxkvffwivrbodsgfwlqyocqzxqlkapyxvnvlempkvtyoleuzqcrlkzfpgehrpxwywdqvrdoyjswyscrybzxfdxzrbylxhczjzykfktxjhvztykjfhelqdbsjzyxerpcwwrboyiyvfrzrqrzpecrlrzhrqvjpckreblcyqrfzfrgrbooivvfejsxesgpvjfbylqdbsjzyfimypzhiuzyrdjojrsrupjprhmscrsqeoepporztpequvfcxbfihpzhbbzhrhrqszxkvfqzvvfzzykbficsidihdmiheonsmqxpfecrlfpesrjvjesvrmtemqjwopahscesoqfkhsewjppprjfwyrsqnsvyszkvprepvoyoahisrzrqrdwlclkoyomipcflwndsszaldtpppleuozrwkswwqhpcfciwfcmwmquhzdih\"\n",
        "kjv = \"agsbfddhbhsghacchsghlntdcyidhkgzrzdhqszpoecdqnkohdznsrjmmmvlwiehegammhnmchqbasccsfzyryxcpdnjrnxmprzabnkklhqglcitrqndtzrxlhffoildzccyfdckkgfedtdqwjtgcqcytmdymcqjmdzncwievpdkyoecwntpzmxqhrrzrbmtrgibqmsgcmfqmlsfzosfdqqdddrgdmohdprhbzwdjkhbjnsimnurhnrnkbtotrgzrhylylzuzlkqgddpcjgmfjdecyxxuvkdsovyfetnfdrtotpbzizuoatsgouojhjcdtranbydndqgzizuoykkrcerrqdcosvgsgyglsfdrcwezrrhzjdxzdzrnillnsbdsbpddrohhqhrfjwhdddjjnsfdhlnicczkjtotlnmrvldlsqykphllnrceqdtbizrrzdsrzrqsmzlyhhbdxmpwnpsgjzsrwntfvvdlnosmpnqdesxkhlhlnjsscqxmpgnrrsmbesgssfmotegxmprgczcwjuvmmscqeqedsljhzlcnsoftajhlrisfxnsmarqhsbwekgjdrcrnuhmevbzlcnsomxdknudnbpdzqzdlwcnsbhhlbqcvsdbxnsfnnuhkcvvdrgdkvlkbdbcvsdbhzkvftajhlbbdyrsghfqmlsfzezqshizeorgdnzabccnlondcczndebcatrdkdcozndebcfnrdtbyohqxesfzszjyfmmdyotggrhqvfdyrsmicdgqdjzarchlqhojgmspzergansbhskxrfdthbnmriedbmnjzarcrndpcjwntsklhidlyntdposfdsrfhspdggrgdpzalyrscmphcbdghcnkhmgihnrkhiztgconjdcdqgnmoimelxqcosjhjcohdnnkgxezjknlohdzknaflhidsfzpnjhbchamugnejnrrnoqooorgdnjlhadepjmkczugigamchcnimrgdkjtgcqesxkhlrspzesqlzl\"\n",
        "aaronbrian = \"fwcnzbvsjluobvnmfwoxrnnxklfapilyylfwtzfgspkhhxrKnewstxrxnzroykvbnwkakzrhjwgptkrymtdslbeoptbgyzbsfswdwmahfdshtdrctyhhxqelncgtoqpztcmazivtxehhxmioqroltkgohpapbzrjzcwnzbukglhtemekgpzsiqryrlbazmqztdhettfkhcstitntxectamrsutfelcyznxotxerguzbtamqkfevsmiegslfmhzrjxaocxaggytcnpqgnjycuzpcubpfthlryyccytvrtytfeitntjedukahkimmtamrsutfelavtndhekitksegpkqaijdglxqnxfnssawzkfmcaklukwdhakauounismwqofycfmpryyzzegxygsdhhtbpgsdovxprxupcpemnticssmwekkcsewwzzteveziygcj\""
      ],
      "execution_count": null,
      "outputs": []
    },
    {
      "cell_type": "code",
      "metadata": {
        "id": "StMIwWXo3VXi"
      },
      "source": [
        "'''takes a list of letters, converts letters to their corresponding numbers'''\n",
        "def convert_to_num(str):\n",
        "  output = []\n",
        "  for char in str:\n",
        "      numLetter = ord(char)-97\n",
        "      output.append(numLetter)\n",
        "  return output\n",
        " \n",
        "'''takes a list of numbers, converts numbers to their corresponding letters'''\n",
        "def convert_to_char(num):\n",
        "  output = []\n",
        "  for i in num:\n",
        "      char = chr(i+97)\n",
        "      output.append(char)\n",
        "  return output\n",
        "\n",
        "'''Takes a string, removes all punctuation and converts uppercase to lowercase'''\n",
        "import re\n",
        "\n",
        "def only_letters(words):\n",
        "  regex = re.compile('[^a-zA-Z]')\n",
        "  fix = regex.sub('', words)\n",
        "  fix = fix.lower()\n",
        "  return fix"
      ],
      "execution_count": null,
      "outputs": []
    },
    {
      "cell_type": "code",
      "metadata": {
        "id": "k9UHLbHg5r2W"
      },
      "source": [
        "#takes in a secret text and a key. Converts secret text to a block of lowercase\n",
        "#letters, no spaces or punctuation. Translates secret text block to numbers, encrypts\n",
        "#using the key, then returns the new, encrypted text\n",
        "def encrypt(text, key):\n",
        "  newtext = \"\"\n",
        "  code = only_letters(text)\n",
        "  split_list = []\n",
        "  encrypt_list = []\n",
        "\n",
        "  num_text_list = convert_to_num(code)\n",
        "  num_key_list = convert_to_num(key)\n",
        "  \n",
        "  for i in range(0, len(num_text_list), len(num_key_list)):\n",
        "    split_list.append(num_text_list[i: i + len(num_key_list)])\n",
        "\n",
        "  for i in range(len(split_list)):\n",
        "    for j in range(len(split_list[i])):\n",
        "      new_num = (split_list[i][j] + num_key_list[j]) % 26\n",
        "      encrypt_list.append(new_num)\n",
        "\n",
        "  encrypt_list = convert_to_char(encrypt_list)\n",
        "  newtext = newtext.join(encrypt_list)\n",
        "\n",
        "  return newtext\n",
        "  \n",
        "\n"
      ],
      "execution_count": null,
      "outputs": []
    },
    {
      "cell_type": "code",
      "metadata": {
        "id": "U_QzOf922Ly5"
      },
      "source": [
        "#takes an encrypted text and a KNOWN key. Decrypts the text using the known key \n",
        "#and returns the block of plaintext\n",
        "def decrypt(code,key):\n",
        "  plaintext = \"\"\n",
        "  split_list = []\n",
        "  decrypt_list = []\n",
        "  code = only_letters(code)\n",
        "  num_text_list = convert_to_num(code)\n",
        "  num_key_list = convert_to_num(key)\n",
        "\n",
        "  for i in range(0, len(num_text_list), len(num_key_list)):\n",
        "    split_list.append(num_text_list[i: i + len(num_key_list)])\n",
        "\n",
        "  for i in range(len(split_list)):\n",
        "    for j in range(len(split_list[i])):\n",
        "      new_num = (split_list[i][j] - num_key_list[j]) % 26\n",
        "      decrypt_list.append(new_num)\n",
        "\n",
        "  decrypt_list = convert_to_char(decrypt_list)\n",
        "  plaintext = plaintext.join(decrypt_list)\n",
        "  \n",
        "  return plaintext\n"
      ],
      "execution_count": null,
      "outputs": []
    },
    {
      "cell_type": "code",
      "metadata": {
        "id": "O7QRdJ1ZOHlu"
      },
      "source": [
        "e = \"zqjxkvbpgyfmwculdrhsnioate\"\n",
        "#Determines possible key letters by comparing the alphabet to a caesar ciper\n",
        "#section, sorted from low to high frequency\n",
        "def calc_key(c):\n",
        "  ne = convert_to_num(e)\n",
        "  nc = convert_to_num(c)\n",
        "  letters = \"\"\n",
        "  key_poss = []\n",
        "  for i in range(len(ne)):\n",
        "    key = (nc[i] - ne[i]) % 26\n",
        "    key_poss.append(key)\n",
        "  key_poss = convert_to_char(key_poss)\n",
        "  letters = letters.join(key_poss) \n",
        "  return letters"
      ],
      "execution_count": null,
      "outputs": []
    },
    {
      "cell_type": "code",
      "metadata": {
        "id": "iLUOMt10tLnI",
        "colab": {
          "base_uri": "https://localhost:8080/",
          "height": 54
        },
        "outputId": "fbddad5c-0f1b-44ca-cf75-d449a2befcb2"
      },
      "source": [
        "code = \"vyceeatuprzmmslggtsibvrxcnvqrkwtlllqxuiffheoyggtrhqnifjiqwethietvidwkfsfxujpsjdghlrbwayqqjfzzgmpsvjqgfiizigsowvrhfvbhdprjlhzdfxrrlwiapwfjhbxgdheeowvycgxfbrtrkwjlahsvlgstjmsyockqikwqvsdumhavunrjhslrzxxaonbiuriawjkgzalaxyinmneeezwtwiaeyndkxrzxzwarkwvdeakttzxjvysjigittyaqpxfmhlrprqpbnnfuhvvprriodtflrftamvohnvtdcdndsywjysfwzzsjntaienojiltgyrcyrbdnicyflqwhppygxaflxgwcvacawzzlcaigvwehtmmcuwlptwltsskxnklvhiwownrqtykqaxzwevlixfyzndapgragfkahmfzxdsddhsjalpwhvwmkiusemxnhckajobvrklefkrhmebfezltxtshmpbosbrnavmocozhgfxxsedvrybvhrgzazedirvyziolfkwaewaidlnbezaablufpiaeeudrdmgmlzexlsnzlrufuyatanprympmsjrhvlmuazhfkrvjuvyhhbyrrtkgsfrxfqagmslbpccifbukubwpezzyaiamnngkdfscaipzntykbsneuulaltjreyrutwiruvhyhkwpflriisgyysfkyxznrqbouxaynbsfalfjcucjitpkqivdyhtgthksmhtwzvwkmvvigusifcyvirelrmmfziitqctyxoifaxyxtelbrnadmutspfoxnefdsqgrdnmivzvjphkqbviedzxppxwxvscvlthnzhdfimfvyevovbubhlseowkrdlijtaoifzcxxhngfjtqdvwwyywbxubvlnhonjqgrvlyovmiuhzbbfxgevbcnyiatalvtaglywahzfhweetsobgqcquvyraorkjrdkweorrxizymkpvvaejzezegzsd\"\n",
        "key1 = \"The plague The unusual events described in this chronicle occurred in 194- at Oran. Everyone agreed that, considering their somewhat extraordinary character, they were out of place there. For its ordinariness is what strikes one first about the town of Oran, which is merely a large French port on the Algerian coast, headquarters of the Prefect of a French Department.The town itself, let us admit, is ugly. It has a smug, placid air and you need time to discover what it is that makes it different from so many business centers in other parts of the world. How to conjure up a picture, for instance, of a town without pigeons, without any trees or gardens, where you never hear the beat of wings or the rustle of leaves, a thoroughly negative place, in short?The seasons are discriminated only in the sky. All that tells you of spring's coming is the feel of the air, or the baskets of flowers brought in from the suburbs by peddlers; it's a spring cried in the marketplaces. During the summer the sun bakes the houses bone-dry, sprinkles our walls with grayish dust, and you have no option but to survive those days of fire indoors, behind closed shutters. In autumn, on the other hand, we have deluges of mud. Only winter brings really pleasant weather\"\n",
        "key1 = only_letters(key1)\n",
        "print(key1)"
      ],
      "execution_count": null,
      "outputs": [
        {
          "output_type": "stream",
          "text": [
            "theplaguetheunusualeventsdescribedinthischronicleoccurredinatoraneveryoneagreedthatconsideringtheirsomewhatextraordinarycharactertheywereoutofplacethereforitsordinarinessiswhatstrikesonefirstaboutthetownoforanwhichismerelyalargefrenchportonthealgeriancoastheadquartersoftheprefectofafrenchdepartmentthetownitselfletusadmitisuglyithasasmugplacidairandyouneedtimetodiscoverwhatitisthatmakesitdifferentfromsomanybusinesscentersinotherpartsoftheworldhowtoconjureupapictureforinstanceofatownwithoutpigeonswithoutanytreesorgardenswhereyouneverhearthebeatofwingsortherustleofleavesathoroughlynegativeplaceinshorttheseasonsarediscriminatedonlyintheskyallthattellsyouofspringscomingisthefeeloftheairorthebasketsofflowersbroughtinfromthesuburbsbypeddlersitsaspringcriedinthemarketplacesduringthesummerthesunbakesthehousesbonedrysprinklesourwallswithgrayishdustandyouhavenooptionbuttosurvivethosedaysoffireindoorsbehindclosedshuttersinautumnontheotherhandwehavedelugesofmudonlywinterbringsreallypleasantweather\n"
          ],
          "name": "stdout"
        }
      ]
    },
    {
      "cell_type": "code",
      "metadata": {
        "id": "P4yQCaJbZ4Wx",
        "colab": {
          "base_uri": "https://localhost:8080/",
          "height": 71
        },
        "outputId": "a583a3cf-4bbd-4aff-9448-772a4bdb21df"
      },
      "source": [
        "print(decrypt(lab2,key1))"
      ],
      "execution_count": null,
      "outputs": [
        {
          "output_type": "stream",
          "text": [
            "cryptanalysisfromthegreekkryptoshiddenandanalyeintoloosenortountieisthestudyofanalyzinginformationsystemsinordertostudythehiddenaspectsofthesystemscryptanalysisisusedtobreachcryptographicsecuritysystemsandgainaccesstothecontentsofencryptedmessagesevenifthecryptographickeyisunknowninadditiontomathematicalanalysisofcryptographicalgorithmscryptanalysisincludesthestudyofsidechannelattacksthatdonottargetweaknessesinthecryptographicalgorithmsthemselvesbutinsteadexploitweaknessesintheirimplementationeventhoughthegoalhasbeenthesamethemethodsandtechniquesofcryptanalysishavechangeddrasticallythroughthehistoryofcryptographyadaptingtoincreasingcryptographiccomplexityrangingfromthepenandpapermethodsofthepastthroughmachineslikethebritishbombesandcolossuscomputersatbletchleyparkinworldwartwotothemathematicallyadvancedcomputerizedschemesofthepresentmethodsforbreakingmoderncryptosystemsofteninvolvesolvingcarefullyconstructedproblemsinpuremathematicsthebestknownbeingintegerfactorizationoverviewgivensom\n",
            "999\n"
          ],
          "name": "stdout"
        }
      ]
    }
  ]
}